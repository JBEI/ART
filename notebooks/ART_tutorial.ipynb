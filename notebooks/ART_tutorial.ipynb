{
 "cells": [
  {
   "cell_type": "markdown",
   "metadata": {},
   "source": [
    "# A.R.T. tutorial: improving production for an easy-to-learn function  "
   ]
  },
  {
   "cell_type": "markdown",
   "metadata": {},
   "source": [
    "This notebook demostrates how to use the [Automated Recommendation Tool](https://www.nature.com/articles/s41467-020-18008-4) (A.R.T.) to guide a simulated bioengineering process, where the production is given by an 'easy' function."
   ]
  },
  {
   "cell_type": "markdown",
   "metadata": {},
   "source": [
    "Tested using **ART_v3.6 kernel** on [jprime.lbl.gov](https://jprime.lbl.gov/)."
   ]
  },
  {
   "cell_type": "markdown",
   "metadata": {},
   "source": [
    "## Setup"
   ]
  },
  {
   "cell_type": "markdown",
   "metadata": {},
   "source": [
    "The first step to run this notebook  is to make sure the `ART` library is installed.\n",
    "\n",
    "If it is not, clone the corresponding git repository (or pull the latest version) to install it:\n",
    "\n",
    "`git clone https://github.com/JBEI/AutomatedRecommendationTool.git`  \n",
    " \n",
    "Information about licensing ART is available at https://github.com/JBEI/ART.\n",
    "\n"
   ]
  },
  {
   "cell_type": "markdown",
   "metadata": {},
   "source": [
    "Next, we need to add the library to the path, and import its functions:\n"
   ]
  },
  {
   "cell_type": "code",
   "execution_count": null,
   "metadata": {},
   "outputs": [],
   "source": [
    "import sys\n",
    "sys.path.append('../../AutomatedRecommendationTool/')       # Ensure this is the location for the ART library \n",
    "sys.path.append('.')                                                              # Add local directory to access some of the functions\n",
    "\n",
    "import pandas as pd\n",
    "from art.core import RecommendationEngine\n",
    "import art.utility as utils\n",
    "import numpy as np\n",
    "import auxiliary_functions\n",
    "import copy\n",
    "import warnings\n",
    "\n",
    "from IPython.display import Image                                                  # Used to display images"
   ]
  },
  {
   "cell_type": "markdown",
   "metadata": {},
   "source": [
    "## Deciding the input and response"
   ]
  },
  {
   "cell_type": "markdown",
   "metadata": {},
   "source": [
    "ART (and most of [machine learning](https://www.sciencedirect.com/science/article/pii/S109671762030166X)) works by learning the connection between a set of *inputs* (e.g. concentration for proteins in a pathway) and a corresponding *response* (e.g. production of biofuel). We will use a training set of known inputs and responses to derive a predictive model able to predict the response for new input, and then use that predictive models to find inputs that are predicted to improve our response:"
   ]
  },
  {
   "cell_type": "code",
   "execution_count": null,
   "metadata": {},
   "outputs": [],
   "source": [
    "Image(\"ARToverview.png\")"
   ]
  },
  {
   "cell_type": "markdown",
   "metadata": {},
   "source": [
    "The predictions are probabilistic: i.e. instead of predicting that the protein concentrations p_1 = 0.5, p_2 = 0.2, p_3 = 0.7 will produce a production of 15 mg/L, the prediction is given in terms of a probability distribution. This probability distribution approach predicts that for p_1 = 0.5, p_2 = 0.2, p_3 = 0.7, there is e.g. a 10% chance of producing at most 10 mg/L, a 20% chance of producing at most 15 mg/L, ... etc. Hence this approach *quantifies uncertainty* for the prediction, which is a very useful characteristic when dealing with the small data sets characteristic of the field of synthetic biology."
   ]
  },
  {
   "cell_type": "markdown",
   "metadata": {},
   "source": [
    "For this tutorial, and for the sake of the example, our **input** will be composed of the concentrations for two proteins in the [mevalonate pathway](https://www.sciencedirect.com/science/article/pii/S109671761400161X?casa_token=CgEdQ91wK-sAAAAA:xWMpxuffL5Ukj7tyacW08VmwdR5jz1u8IjeXxJWb_FNMfn17yN_4XrVKgN2_Xql4Swjg8tIFf9bH) (e.g. atoB and HMGS) and the **response** will be isoprenol production. We will try to increase isoprenol production.\n",
    "\n",
    "However, everything we do below will be usable for other pathway, final metabolite, number of proteins, transcripts or promoter combinations. This is a general procedure. "
   ]
  },
  {
   "cell_type": "markdown",
   "metadata": {},
   "source": [
    "## Defining the true response function"
   ]
  },
  {
   "cell_type": "markdown",
   "metadata": {},
   "source": [
    "Rather than using experimental data for this tutorial, we will simulate it through an easy to learn function, of dimension 2 (the number of proteins in the input):"
   ]
  },
  {
   "cell_type": "code",
   "execution_count": null,
   "metadata": {},
   "outputs": [],
   "source": [
    "dimension = 2     # number of dimensions\n",
    "lb, ub = 0., 10.  # lower and upper bounds for inputs (protein levels)"
   ]
  },
  {
   "cell_type": "code",
   "execution_count": null,
   "metadata": {},
   "outputs": [],
   "source": [
    "def true_function_easy(p, dimension):\n",
    "    term1 = 0.\n",
    "    term2 = 0.\n",
    "    for i in range(dimension):\n",
    "        term1 += (p[i] - 8)**2\n",
    "        term2 += (p[i]-3)**2\n",
    "\n",
    "    return 25-(1/dimension * term1 + np.exp(-term2))"
   ]
  },
  {
   "cell_type": "markdown",
   "metadata": {},
   "source": [
    "This is a function that links the response $r$ (isoprenol production) to the concentration of proteins $p_1$ (atoB) and $p_2$ (HMGS) as follows:\n",
    "\n",
    "$r = 25 - \\left(\\frac{1}{2}\\left((p_1-8)^2+(p_2-8)^2\\right) + e^{-\\left((p_1-3)^2+(p_2-3)^2\\right)}\\right)$ \n",
    "\n",
    "and looks like this:"
   ]
  },
  {
   "cell_type": "code",
   "execution_count": null,
   "metadata": {},
   "outputs": [],
   "source": [
    "auxiliary_functions.plot_function(true_function_easy, [lb,ub], dimension) "
   ]
  },
  {
   "cell_type": "markdown",
   "metadata": {},
   "source": [
    "This functon is just a convenient example for this tutorial. We could have used a more realistic way to determine the relation between the isoprenol production (r) and the proteins ($p_1$,$p_2$) by using the [Omics Mock Generator](https://www.frontiersin.org/articles/10.3389/fbioe.2021.612893/full) (OMG) library, for example. However, for the purpose of this tutorial, this simplification suffices. The important point is that it does not matter whether the relation between response and input is given by synthetic data or real experimental data: the following steps are the same."
   ]
  },
  {
   "cell_type": "markdown",
   "metadata": {},
   "source": [
    "## ART input"
   ]
  },
  {
   "cell_type": "markdown",
   "metadata": {},
   "source": [
    "### Defining the user parameters for running ART"
   ]
  },
  {
   "cell_type": "markdown",
   "metadata": {},
   "source": [
    "It is useful to collect in a single dictionary all the parameters that we will use as inputs for ART to learn the function we defined above.\n",
    "\n",
    "For example, the first parameter is the dimensionality of the input (in our case, we have two proteins, $p_1$ and $p_2$, so the dimensionality is 2: "
   ]
  },
  {
   "cell_type": "code",
   "execution_count": null,
   "metadata": {},
   "outputs": [],
   "source": [
    "user_params = {'dim': dimension}"
   ]
  },
  {
   "cell_type": "markdown",
   "metadata": {},
   "source": [
    "Then we need to tell ART which are the input ($p_1$ and $p_2$) and response ($r$) variables:"
   ]
  },
  {
   "cell_type": "code",
   "execution_count": null,
   "metadata": {},
   "outputs": [],
   "source": [
    "input_var = ['p_' + str(i) for i in range(1, user_params['dim'] + 1)]\n",
    "response_var = ['r']"
   ]
  },
  {
   "cell_type": "markdown",
   "metadata": {},
   "source": [
    "And then decide how many [instances](https://www.sciencedirect.com/science/article/pii/S109671762030166X#fig3) we will use for the initial DBTL cycle:"
   ]
  },
  {
   "cell_type": "code",
   "execution_count": null,
   "metadata": {},
   "outputs": [],
   "source": [
    "user_params['n_instances_cycle1'] = 7"
   ]
  },
  {
   "cell_type": "markdown",
   "metadata": {},
   "source": [
    "We also need to define the number of [recommendations](https://www.nature.com/articles/s41467-020-18008-4/figures/1) for new inputs to be generated at each DBTL cycle:"
   ]
  },
  {
   "cell_type": "code",
   "execution_count": null,
   "metadata": {},
   "outputs": [],
   "source": [
    "user_params['num_recommendations'] = 5"
   ]
  },
  {
   "cell_type": "markdown",
   "metadata": {},
   "source": [
    "as well as how many Design-Build-Test-Learn ([DBTL](https://www.frontiersin.org/files/Articles/160125/fbioe-03-00135-HTML/image_m/fbioe-03-00135-g001.jpg)) cycles we will do:"
   ]
  },
  {
   "cell_type": "code",
   "execution_count": null,
   "metadata": {},
   "outputs": [],
   "source": [
    "user_params['n_cycles'] = 4"
   ]
  },
  {
   "cell_type": "markdown",
   "metadata": {},
   "source": [
    "We also need to tell ART what is our objective (in this case to maximize the response), and what we consider a success (in this case a 20% improvement over the best in the training data set, i.e., the threshold):"
   ]
  },
  {
   "cell_type": "code",
   "execution_count": null,
   "metadata": {},
   "outputs": [],
   "source": [
    "user_params['objective'] = 'maximize'\n",
    "user_params['threshold'] = 0.2        "
   ]
  },
  {
   "cell_type": "markdown",
   "metadata": {},
   "source": [
    "Also, ART needs an output directory for storing the results generated, and a random number generator seed to enable repeatability of the run (although the process is random, processes with the same seed produce the same results):"
   ]
  },
  {
   "cell_type": "code",
   "execution_count": null,
   "metadata": {},
   "outputs": [],
   "source": [
    "import os\n",
    "user_params['output_directory'] = './results/'\n",
    "try:\n",
    "    os.mkdir(user_params['output_directory'])\n",
    "except FileExistsError:\n",
    "    pass  # Ok if it has already been created.\n",
    "user_params['seed'] = 30     "
   ]
  },
  {
   "cell_type": "markdown",
   "metadata": {},
   "source": [
    "Finally, we need to define the exploitation-exploration parameter `alpha` ($\\alpha$). This parameter determines whether we want create recommendations to *explore* the parts of the phase space where our model is less precise ($\\alpha \\sim 1$), or recommend new points that will *exploit* our model to obtain the highest production ($\\alpha \\sim 0$):"
   ]
  },
  {
   "cell_type": "code",
   "execution_count": null,
   "metadata": {},
   "outputs": [],
   "source": [
    "user_params['alpha_cycle2'] = 0.9\n",
    "user_params['alpha_cycle3'] = 0.5\n",
    "user_params['alpha_cycle4'] = None"
   ]
  },
  {
   "cell_type": "markdown",
   "metadata": {},
   "source": [
    "You can find more details regarding $\\alpha$ in equation 5 from the [ART paper](https://www.nature.com/articles/s41467-020-18008-4)."
   ]
  },
  {
   "cell_type": "markdown",
   "metadata": {},
   "source": [
    "### Create file with bounds for input variables"
   ]
  },
  {
   "cell_type": "markdown",
   "metadata": {},
   "source": [
    "Here we define the constraints on the input variables. For example, we limit ourselves only to positive values with an upper bound."
   ]
  },
  {
   "cell_type": "code",
   "execution_count": null,
   "metadata": {},
   "outputs": [],
   "source": [
    "dim = user_params['dim'] \n",
    "bounds_file = user_params['output_directory']+'sim_data_bounds_FE.csv'\n",
    "\n",
    "\n",
    "df = pd.DataFrame(columns=['Variable', 'Min', 'Max', 'Scaling'])\n",
    "df['Variable'] = ['p_' + str(i) for i in range(1, dimension + 1)]\n",
    "df['Min'] = lb*np.ones(dim)\n",
    "df['Max'] = ub*np.ones(dim)\n",
    "df['Scaling'] = np.ones(dim)\n",
    "df = df.set_index('Variable')\n",
    "\n",
    "print(df)\n",
    "df.to_csv(path_or_buf=bounds_file)\n"
   ]
  },
  {
   "cell_type": "markdown",
   "metadata": {},
   "source": [
    "## DBTL cycles "
   ]
  },
  {
   "cell_type": "markdown",
   "metadata": {},
   "source": [
    "We are now ready to start the Design-Build-Test-Learn cycles that will lead us to an increased production of isoprenol."
   ]
  },
  {
   "cell_type": "code",
   "execution_count": null,
   "metadata": {},
   "outputs": [],
   "source": [
    "Image(\"DBTL.png\")"
   ]
  },
  {
   "cell_type": "markdown",
   "metadata": {},
   "source": [
    "### DBTL cycle 1"
   ]
  },
  {
   "cell_type": "code",
   "execution_count": null,
   "metadata": {},
   "outputs": [],
   "source": [
    "cycle = 1"
   ]
  },
  {
   "cell_type": "markdown",
   "metadata": {},
   "source": [
    "#### Define input parameters"
   ]
  },
  {
   "cell_type": "markdown",
   "metadata": {},
   "source": [
    "For the first cycle, we have no previously gathered information to make recommendations from, so we will create a set of recommended inputs such that they cover as much phase space as possible. This is achieved through the Latin Hypercube method ([McKay et al., 1979](https://amstat.tandfonline.com/doi/abs/10.1080/00401706.2000.10485979?casa_token=t3rYToRQxNUAAAAA%3AedYxZ4BsQrB2BDGIEw1ALAKNwgZIV-GOjEURzCT9rv1kdP_chO8DzEF4qS5P7_w89_SotCL_BbBsHnI&#.YAeui-lKii4)), which is included in ART and can be summoned setting input parameter `initial_cycle` to `True`. The rest of the parameters are explained above:"
   ]
  },
  {
   "cell_type": "code",
   "execution_count": null,
   "metadata": {},
   "outputs": [],
   "source": [
    "art_params = {\n",
    "    'bounds_file': bounds_file,\n",
    "    'input_vars': input_var,\n",
    "    'response_vars': response_var,\n",
    "    'num_recommendations': user_params['n_instances_cycle1'],    \n",
    "    'initial_cycle': True,                                    # Set this to True for initial designs recommendations\n",
    "    'seed': user_params['seed'],                              \n",
    "    'output_directory': user_params['output_directory']  \n",
    "}"
   ]
  },
  {
   "cell_type": "markdown",
   "metadata": {},
   "source": [
    "#### Run ART"
   ]
  },
  {
   "cell_type": "markdown",
   "metadata": {},
   "source": [
    "The next step is to run arts with the parameters we included in `art_params`:"
   ]
  },
  {
   "cell_type": "code",
   "execution_count": null,
   "metadata": {},
   "outputs": [],
   "source": [
    "art = RecommendationEngine(**art_params)"
   ]
  },
  {
   "cell_type": "markdown",
   "metadata": {},
   "source": [
    "The recommendations can be found in the `art` structure:"
   ]
  },
  {
   "cell_type": "code",
   "execution_count": null,
   "metadata": {},
   "outputs": [],
   "source": [
    "art.recommendations"
   ]
  },
  {
   "cell_type": "code",
   "execution_count": null,
   "metadata": {},
   "outputs": [],
   "source": [
    "x = [a for a in art.recommendations['p_1']]   \n",
    "y = [a for a in art.recommendations['p_2']]"
   ]
  },
  {
   "cell_type": "markdown",
   "metadata": {},
   "source": [
    "As you can see the values are chosen to be as separated from each other as possible:"
   ]
  },
  {
   "cell_type": "code",
   "execution_count": null,
   "metadata": {},
   "outputs": [],
   "source": [
    "auxiliary_functions.plot_function(true_function_easy, [lb,ub], dimension, points=[x,y]) "
   ]
  },
  {
   "cell_type": "markdown",
   "metadata": {},
   "source": [
    "#### Save results as training data for next cycle"
   ]
  },
  {
   "cell_type": "markdown",
   "metadata": {},
   "source": [
    "We now save this initial recommendations from the Latin Hypercube method in EDD-style files, to be used in the next cycle:"
   ]
  },
  {
   "cell_type": "code",
   "execution_count": null,
   "metadata": {},
   "outputs": [],
   "source": [
    "P = art.recommendations.values\n",
    "r = true_function_easy(P.T, dim).reshape(-1, 1)\n",
    "training_data_file = f'{art.outDir}sim_data_FE_cycle{str(cycle + 1)}.csv'     \n",
    "utils.save_edd_csv(P, r, art.input_vars, training_data_file, response_vars_names=art.response_vars[0])"
   ]
  },
  {
   "cell_type": "code",
   "execution_count": null,
   "metadata": {},
   "outputs": [],
   "source": [
    "r_cycle1 = r\n",
    "max(r_cycle1)[0]"
   ]
  },
  {
   "cell_type": "markdown",
   "metadata": {},
   "source": [
    "### DBTL cycle 2"
   ]
  },
  {
   "cell_type": "code",
   "execution_count": null,
   "metadata": {},
   "outputs": [],
   "source": [
    "cycle += 1"
   ]
  },
  {
   "cell_type": "markdown",
   "metadata": {},
   "source": [
    "#### Define input parameters"
   ]
  },
  {
   "cell_type": "markdown",
   "metadata": {},
   "source": [
    "We change the parameters dictionary to reflect the new parameters for this cycle. The parameters include the objective, the threshold and the exploitation-exploration parameter $\\alpha$:"
   ]
  },
  {
   "cell_type": "code",
   "execution_count": null,
   "metadata": {},
   "outputs": [],
   "source": [
    "art_params = {\n",
    "    'bounds_file': bounds_file,\n",
    "    'input_vars': input_var,               \n",
    "    'response_vars': response_var,\n",
    "    'objective': user_params['objective'],\n",
    "    'threshold': user_params['threshold'],\n",
    "    'alpha': user_params['alpha_cycle2'],\n",
    "    'num_recommendations': user_params['num_recommendations'],  \n",
    "    'seed': user_params['seed'],                           \n",
    "    'output_directory': user_params['output_directory']  \n",
    "}"
   ]
  },
  {
   "cell_type": "markdown",
   "metadata": {},
   "source": [
    "Import training data file from previous DBTL cycle into a pandas dataframe:"
   ]
  },
  {
   "cell_type": "code",
   "execution_count": null,
   "metadata": {},
   "outputs": [],
   "source": [
    "df = utils.load_study(data_file=training_data_file)"
   ]
  },
  {
   "cell_type": "markdown",
   "metadata": {},
   "source": [
    "#### Run ART"
   ]
  },
  {
   "cell_type": "markdown",
   "metadata": {},
   "source": [
    "We know run ART to learn from those initial 7 instances, and the result are three graphs:"
   ]
  },
  {
   "cell_type": "code",
   "execution_count": null,
   "metadata": {},
   "outputs": [],
   "source": [
    "%%time\n",
    "warnings.filterwarnings(\"ignore\")\n",
    "art = RecommendationEngine(df, **art_params)"
   ]
  },
  {
   "cell_type": "markdown",
   "metadata": {},
   "source": [
    "The first graph involves a comparison between observed data and predictions. In this case, the predictions are good ($R^2 = 0.88$), despite ART not having too many instances to learn from. \n",
    "\n",
    "The second graph involves the probability distribution for the response (isoprenol production in this case) for each of the recommendations (5 in this case, as specified above under `num_recommendations`) provided by ART. The continous vertical line is the mean for each distribution, and the discontinous line is the best production level in the data set.\n",
    "\n",
    "The third graph indicates the probability of achieving success as a function of strains tested. In this case, testing the 5 recommendations provided has \\~70\\% of achieving success "
   ]
  },
  {
   "cell_type": "markdown",
   "metadata": {},
   "source": [
    "This is the maximum response among the seven instances:"
   ]
  },
  {
   "cell_type": "code",
   "execution_count": null,
   "metadata": {},
   "outputs": [],
   "source": [
    "max(art.y)[0]"
   ]
  },
  {
   "cell_type": "markdown",
   "metadata": {},
   "source": [
    "This the threshold for success (20% as discussed before):"
   ]
  },
  {
   "cell_type": "code",
   "execution_count": null,
   "metadata": {},
   "outputs": [],
   "source": [
    "art.threshold"
   ]
  },
  {
   "cell_type": "markdown",
   "metadata": {},
   "source": [
    "And this is the production level that ART would consider a success for the purposes of the third graph:"
   ]
  },
  {
   "cell_type": "code",
   "execution_count": null,
   "metadata": {},
   "outputs": [],
   "source": [
    "max(art.y)[0] *(1+art.threshold)"
   ]
  },
  {
   "cell_type": "markdown",
   "metadata": {},
   "source": [
    "#### Save training data for next cycle"
   ]
  },
  {
   "cell_type": "markdown",
   "metadata": {},
   "source": [
    "We now simulate true values for the response variable for the ART recommendations using `true_function`, and save data in an EDD-style .csv file:"
   ]
  },
  {
   "cell_type": "code",
   "execution_count": null,
   "metadata": {},
   "outputs": [],
   "source": [
    "file_name = f'{art.outDir}sim_data_FE_cycle{str(cycle + 1)}.csv'\n",
    "r_cycle2 = auxiliary_functions.simulate_recommendations_responses(art, true_function_easy, user_params['dim'], file_name)"
   ]
  },
  {
   "cell_type": "markdown",
   "metadata": {},
   "source": [
    "The maximum value obtained by the recommendations is then:"
   ]
  },
  {
   "cell_type": "code",
   "execution_count": null,
   "metadata": {},
   "outputs": [],
   "source": [
    "max(r_cycle2)[0]"
   ]
  },
  {
   "cell_type": "markdown",
   "metadata": {},
   "source": [
    "which is pretty much the maximum (25)."
   ]
  },
  {
   "cell_type": "markdown",
   "metadata": {},
   "source": [
    "### DBTL cycle 3"
   ]
  },
  {
   "cell_type": "code",
   "execution_count": null,
   "metadata": {},
   "outputs": [],
   "source": [
    "cycle += 1"
   ]
  },
  {
   "cell_type": "markdown",
   "metadata": {},
   "source": [
    "#### Define input parameters"
   ]
  },
  {
   "cell_type": "markdown",
   "metadata": {},
   "source": [
    "Let's configure ART for the next cycle (no changes from previous cycle except new value of $\\alpha$):"
   ]
  },
  {
   "cell_type": "code",
   "execution_count": null,
   "metadata": {},
   "outputs": [],
   "source": [
    "art_params['alpha'] = user_params['alpha_cycle3']"
   ]
  },
  {
   "cell_type": "markdown",
   "metadata": {},
   "source": [
    "Import training data file into a pandas dataframe:"
   ]
  },
  {
   "cell_type": "code",
   "execution_count": null,
   "metadata": {},
   "outputs": [],
   "source": [
    "df = utils.load_study(data_file=f'{art.outDir}sim_data_FE_cycle{str(cycle)}.csv')"
   ]
  },
  {
   "cell_type": "markdown",
   "metadata": {},
   "source": [
    "#### Run ART"
   ]
  },
  {
   "cell_type": "markdown",
   "metadata": {},
   "source": [
    "Let's train ART with the response values associated with the recommended protein values obtained from cycle 1:"
   ]
  },
  {
   "cell_type": "code",
   "execution_count": null,
   "metadata": {},
   "outputs": [],
   "source": [
    "%%time\n",
    "art = RecommendationEngine(df, **art_params)"
   ]
  },
  {
   "cell_type": "markdown",
   "metadata": {},
   "source": [
    "In this third cycle (second with simulated experimental results), the predictions are perfect ($R^2 =1.0$), indicating that ART has learnt to predict the response for all training inputs. \n",
    "The new recommendations cannot really improve since the previous cycle recommendations already reached the limit:"
   ]
  },
  {
   "cell_type": "code",
   "execution_count": null,
   "metadata": {},
   "outputs": [],
   "source": [
    "max(art.y)[0]"
   ]
  },
  {
   "cell_type": "markdown",
   "metadata": {},
   "source": [
    "And the probability that at least one strain exhibits production 20% over the maximum is zero since ART has now accuretaly learnt the production distribution, and the maximum is around 25.\n"
   ]
  },
  {
   "cell_type": "markdown",
   "metadata": {},
   "source": [
    "## DBTL cycles for different starting instances"
   ]
  },
  {
   "cell_type": "markdown",
   "metadata": {},
   "source": [
    "Let's see now what happens if we have different initial recommendations."
   ]
  },
  {
   "cell_type": "markdown",
   "metadata": {},
   "source": [
    "### DBTL Cycle 1"
   ]
  },
  {
   "cell_type": "markdown",
   "metadata": {},
   "source": [
    "#### Define input parameters"
   ]
  },
  {
   "cell_type": "markdown",
   "metadata": {},
   "source": [
    "First, let's create different sets of user parameters that differ only in the numbes of instances for cycle 1:"
   ]
  },
  {
   "cell_type": "code",
   "execution_count": null,
   "metadata": {},
   "outputs": [],
   "source": [
    "user_params_A  = copy.deepcopy(user_params) ; user_params_A['n_instances_cycle1'] = 7\n",
    "user_params_B  = copy.deepcopy(user_params) ; user_params_B['n_instances_cycle1'] = 15\n",
    "user_params_C  = copy.deepcopy(user_params) ; user_params_C['n_instances_cycle1'] = 30"
   ]
  },
  {
   "cell_type": "code",
   "execution_count": null,
   "metadata": {},
   "outputs": [],
   "source": [
    "art_params_A = {\n",
    "    'bounds_file': bounds_file,\n",
    "    'input_vars': input_var,\n",
    "    'response_vars': response_var,\n",
    "    'num_recommendations': user_params_A['n_instances_cycle1'],    \n",
    "    'initial_cycle': True,                                    # Set this to True for initial designs recommendations\n",
    "    'seed': user_params_A['seed'],                              \n",
    "    'output_directory': user_params_A['output_directory']  \n",
    "}"
   ]
  },
  {
   "cell_type": "code",
   "execution_count": null,
   "metadata": {},
   "outputs": [],
   "source": [
    "art_params_B = {\n",
    "    'bounds_file': bounds_file,\n",
    "    'input_vars': input_var,\n",
    "    'response_vars': response_var,\n",
    "    'num_recommendations': user_params_B['n_instances_cycle1'],    \n",
    "    'initial_cycle': True,                                    # Set this to True for initial designs recommendations\n",
    "    'seed': user_params_B['seed'],                              \n",
    "    'output_directory': user_params_B['output_directory']  \n",
    "}"
   ]
  },
  {
   "cell_type": "code",
   "execution_count": null,
   "metadata": {},
   "outputs": [],
   "source": [
    "art_params_C = {\n",
    "    'bounds_file': bounds_file,\n",
    "    'input_vars': input_var,\n",
    "    'response_vars': response_var,\n",
    "    'num_recommendations': user_params_C['n_instances_cycle1'],    \n",
    "    'initial_cycle': True,                                    # Set this to True for initial designs recommendations\n",
    "    'seed': user_params_C['seed'],                              \n",
    "    'output_directory': user_params_C['output_directory']  \n",
    "}"
   ]
  },
  {
   "cell_type": "markdown",
   "metadata": {},
   "source": [
    "#### Run ART"
   ]
  },
  {
   "cell_type": "markdown",
   "metadata": {},
   "source": [
    "And now we can run each of them separately:"
   ]
  },
  {
   "cell_type": "code",
   "execution_count": null,
   "metadata": {},
   "outputs": [],
   "source": [
    "art_A = RecommendationEngine(**art_params_A)\n",
    "art_B = RecommendationEngine(**art_params_B)\n",
    "art_C = RecommendationEngine(**art_params_C)"
   ]
  },
  {
   "cell_type": "markdown",
   "metadata": {},
   "source": [
    "#### Save results as training data for next cycle"
   ]
  },
  {
   "cell_type": "markdown",
   "metadata": {},
   "source": [
    "And here are the initial recommendations:"
   ]
  },
  {
   "cell_type": "code",
   "execution_count": null,
   "metadata": {},
   "outputs": [],
   "source": [
    "P_A = art_A.recommendations.values\n",
    "r_A = true_function_easy(P_A.T, dim).reshape(-1, 1)\n",
    "training_data_file_A = f'{art.outDir}sim_data_FE_cycle{str(cycle + 1)}_A.csv'     #Substitute file\n",
    "utils.save_edd_csv(P_A, r_A, art_A.input_vars, training_data_file_A, response_vars_names=art_A.response_vars[0])"
   ]
  },
  {
   "cell_type": "code",
   "execution_count": null,
   "metadata": {},
   "outputs": [],
   "source": [
    "P_B = art_B.recommendations.values\n",
    "r_B = true_function_easy(P_B.T, dim).reshape(-1, 1)\n",
    "training_data_file_B = f'{art.outDir}sim_data_FE_cycle{str(cycle + 1)}_B.csv'     #Substitute file\n",
    "utils.save_edd_csv(P_B, r_B, art_B.input_vars, training_data_file_B, response_vars_names=art_B.response_vars[0])"
   ]
  },
  {
   "cell_type": "code",
   "execution_count": null,
   "metadata": {},
   "outputs": [],
   "source": [
    "P_C = art_C.recommendations.values\n",
    "r_C = true_function_easy(P_C.T, dim).reshape(-1, 1)\n",
    "training_data_file_C = f'{art.outDir}sim_data_FE_cycle{str(cycle + 1)}_C.csv'     #Substitute file\n",
    "utils.save_edd_csv(P_C, r_C, art_C.input_vars, training_data_file_C, response_vars_names=art_C.response_vars[0])"
   ]
  },
  {
   "cell_type": "markdown",
   "metadata": {},
   "source": [
    "### DBTL Cycle 2"
   ]
  },
  {
   "cell_type": "code",
   "execution_count": null,
   "metadata": {},
   "outputs": [],
   "source": [
    "cycle += 1"
   ]
  },
  {
   "cell_type": "markdown",
   "metadata": {},
   "source": [
    "#### Define input parameters"
   ]
  },
  {
   "cell_type": "code",
   "execution_count": null,
   "metadata": {},
   "outputs": [],
   "source": [
    "art_params = {\n",
    "    'bounds_file': bounds_file,\n",
    "    'input_vars': input_var,               \n",
    "    'response_vars': response_var,\n",
    "    'objective': user_params['objective'],\n",
    "    'threshold': user_params['threshold'],\n",
    "    'alpha': user_params['alpha_cycle2'],\n",
    "    'num_recommendations': user_params['num_recommendations'],  \n",
    "    'seed': user_params['seed'],                           \n",
    "    'output_directory': user_params['output_directory']  \n",
    "}"
   ]
  },
  {
   "cell_type": "code",
   "execution_count": null,
   "metadata": {},
   "outputs": [],
   "source": [
    "df_A = utils.load_study(data_file=training_data_file_A)\n",
    "df_B = utils.load_study(data_file=training_data_file_B)\n",
    "df_C = utils.load_study(data_file=training_data_file_C)"
   ]
  },
  {
   "cell_type": "markdown",
   "metadata": {},
   "source": [
    "#### Run ART"
   ]
  },
  {
   "cell_type": "code",
   "execution_count": null,
   "metadata": {},
   "outputs": [],
   "source": [
    "%%time\n",
    "art_A = RecommendationEngine(df_A, **art_params)"
   ]
  },
  {
   "cell_type": "code",
   "execution_count": null,
   "metadata": {},
   "outputs": [],
   "source": [
    "%%time\n",
    "art_B = RecommendationEngine(df_B, **art_params)"
   ]
  },
  {
   "cell_type": "code",
   "execution_count": null,
   "metadata": {},
   "outputs": [],
   "source": [
    "%%time\n",
    "art_C = RecommendationEngine(df_C, **art_params)"
   ]
  },
  {
   "cell_type": "markdown",
   "metadata": {},
   "source": [
    "As you can see the difference is significant: the larger the number of initial training instances the better the predictions. "
   ]
  },
  {
   "cell_type": "code",
   "execution_count": null,
   "metadata": {},
   "outputs": [],
   "source": []
  },
  {
   "cell_type": "code",
   "execution_count": null,
   "metadata": {},
   "outputs": [],
   "source": []
  }
 ],
 "metadata": {
  "kernelspec": {
   "display_name": "ART_v3.6",
   "language": "python",
   "name": "art_v3.6"
  },
  "language_info": {
   "codemirror_mode": {
    "name": "ipython",
    "version": 3
   },
   "file_extension": ".py",
   "mimetype": "text/x-python",
   "name": "python",
   "nbconvert_exporter": "python",
   "pygments_lexer": "ipython3",
   "version": "3.6.5"
  }
 },
 "nbformat": 4,
 "nbformat_minor": 4
}
