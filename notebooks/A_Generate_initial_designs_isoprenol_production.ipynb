{
 "cells": [
  {
   "cell_type": "markdown",
   "metadata": {},
   "source": [
    "# Notebook A: Generate initial designs for training data for ART"
   ]
  },
  {
   "cell_type": "markdown",
   "metadata": {},
   "source": [
    "This notebook designs the simulated experiment needed to feed ART's predictive capabilities. We use ART to provide suggested designs (flux modifications) for which to get phenotypic data. These designs and phenotypic data will be used later to predict new designs.  "
   ]
  },
  {
   "cell_type": "markdown",
   "metadata": {},
   "source": [
    "Tested using **ART_v3.6** kernel on jprime.lbl.gov"
   ]
  },
  {
   "cell_type": "markdown",
   "metadata": {},
   "source": [
    "## Setup"
   ]
  },
  {
   "cell_type": "markdown",
   "metadata": {},
   "source": [
    "Clone the git repository with the `ART` library \n",
    "\n",
    "`git clone https://github.com/JBEI/AutomatedRecommendationTool.git`  \n",
    "<!-- <font color='red'> _____ -->\n",
    "<!-- **WE SHOULD TALK ABOUT LICENSING HERE!!!** </font> -->\n",
    "\n",
    "or pull the latest version. \n",
    "\n",
    "Information about licensing ART is available at https://github.com/JBEI/ART.\n",
    "\n",
    "Importing needed libraries:"
   ]
  },
  {
   "cell_type": "code",
   "execution_count": 1,
   "metadata": {},
   "outputs": [],
   "source": [
    "import sys\n",
    "sys.path.append('../../AutomatedRecommendationTool')        # Make sure this is the location for the ART library \n",
    "sys.path.append('../')\n",
    "    \n",
    "from art.core import *                                  "
   ]
  },
  {
   "cell_type": "markdown",
   "metadata": {},
   "source": [
    "## User parameters"
   ]
  },
  {
   "cell_type": "markdown",
   "metadata": {},
   "source": [
    "### Defining fluxes to be modified and the number of instances (designs) to be created"
   ]
  },
  {
   "cell_type": "markdown",
   "metadata": {},
   "source": [
    "These are the reactions we consider for genetic engineering in terms of isoprenol production:"
   ]
  },
  {
   "cell_type": "code",
   "execution_count": 2,
   "metadata": {},
   "outputs": [],
   "source": [
    "user_params = {\n",
    "    'reactions': ['ACCOAC', \n",
    "                  'MDH',\n",
    "                  'PTAr', \n",
    "                  'CS', \n",
    "                  'ACACT1r', \n",
    "                  'PPC', \n",
    "                  'PPCK',\n",
    "                  'PFL']\n",
    "}"
   ]
  },
  {
   "cell_type": "code",
   "execution_count": 3,
   "metadata": {},
   "outputs": [],
   "source": [
    "n_reactions = len(user_params['reactions'])"
   ]
  },
  {
   "cell_type": "markdown",
   "metadata": {},
   "source": [
    "We consider the following possible genetic modifications: \n",
    "- knockout (KO)\n",
    "- no modification (NoMod)\n",
    "- upregulation 2x (UP)"
   ]
  },
  {
   "cell_type": "markdown",
   "metadata": {},
   "source": [
    "and we describe them through numerical categories:"
   ]
  },
  {
   "cell_type": "code",
   "execution_count": 4,
   "metadata": {},
   "outputs": [],
   "source": [
    "user_params['modif_dict'] = {\n",
    "    'KO': int(0), \n",
    "    'NoMod': int(1),\n",
    "    'UP': int(2)\n",
    "}"
   ]
  },
  {
   "cell_type": "markdown",
   "metadata": {},
   "source": [
    "Here we specify how many instances (designs) we want to create (change as desired): "
   ]
  },
  {
   "cell_type": "code",
   "execution_count": 5,
   "metadata": {},
   "outputs": [],
   "source": [
    "user_params['n_instances'] = 96"
   ]
  },
  {
   "cell_type": "markdown",
   "metadata": {},
   "source": [
    "### Calculating the size of the full design space and relative coverage"
   ]
  },
  {
   "cell_type": "markdown",
   "metadata": {},
   "source": [
    "Here we calculate which percentage of possible designs we have covered with this initial set:"
   ]
  },
  {
   "cell_type": "code",
   "execution_count": 7,
   "metadata": {},
   "outputs": [
    {
     "name": "stdout",
     "output_type": "stream",
     "text": [
      "Total number of possible modifications: 6561\n",
      "Training set size: 96 (1.46% of the total)\n"
     ]
    }
   ],
   "source": [
    "n_modifications = len(user_params['modif_dict'])\n",
    "tot_number_mod = n_modifications**n_reactions\n",
    "print(f\"Total number of possible modifications: {tot_number_mod}\")\n",
    "trainingset = user_params['n_instances']/tot_number_mod*100\n",
    "print(f\"Training set size: {user_params['n_instances'] } ({trainingset:.2f}% of the total)\")\n"
   ]
  },
  {
   "cell_type": "markdown",
   "metadata": {},
   "source": [
    "## Generating initial designs by running ART\n"
   ]
  },
  {
   "cell_type": "markdown",
   "metadata": {},
   "source": [
    "Define a dictionary that contains the settings that ART will use to find the recommended designs:"
   ]
  },
  {
   "cell_type": "code",
   "execution_count": 8,
   "metadata": {},
   "outputs": [],
   "source": [
    "art_params = {\n",
    "    'input_var': user_params['reactions'],                    # input variables, i.e. features\n",
    "    'num_recommendations': user_params['n_instances'] - 1,    # one of them will be wild type\n",
    "    'initial_cycle': True,                                    # Set this to True for initial designs recommendations\n",
    "    'seed': 10,                                               # seed for number random generator\n",
    "    'output_directory': '../data/isoprenol/initial_designs'  # directory to store this output\n",
    "}\n"
   ]
  },
  {
   "cell_type": "markdown",
   "metadata": {},
   "source": [
    "As current version of ART works only with continuous variables, we will first find recommended designs in the interval [0, 1] and then transform each of those to one of numerical categories defined above {0, 1, 2} by using the floor function\n",
    "\n",
    "$$f(x) = 3\\lfloor x \\rfloor$$"
   ]
  },
  {
   "cell_type": "markdown",
   "metadata": {},
   "source": [
    "With the configuration stored in art_params, we now run ART:"
   ]
  },
  {
   "cell_type": "code",
   "execution_count": 9,
   "metadata": {},
   "outputs": [
    {
     "data": {
      "text/html": [
       "<div>\n",
       "<style scoped>\n",
       "    .dataframe tbody tr th:only-of-type {\n",
       "        vertical-align: middle;\n",
       "    }\n",
       "\n",
       "    .dataframe tbody tr th {\n",
       "        vertical-align: top;\n",
       "    }\n",
       "\n",
       "    .dataframe thead th {\n",
       "        text-align: right;\n",
       "    }\n",
       "</style>\n",
       "<table border=\"1\" class=\"dataframe\">\n",
       "  <thead>\n",
       "    <tr style=\"text-align: right;\">\n",
       "      <th></th>\n",
       "      <th>ACCOAC</th>\n",
       "      <th>MDH</th>\n",
       "      <th>PTAr</th>\n",
       "      <th>CS</th>\n",
       "      <th>ACACT1r</th>\n",
       "      <th>PPC</th>\n",
       "      <th>PPCK</th>\n",
       "      <th>PFL</th>\n",
       "    </tr>\n",
       "  </thead>\n",
       "  <tbody>\n",
       "    <tr>\n",
       "      <th>90</th>\n",
       "      <td>0.834820</td>\n",
       "      <td>0.310928</td>\n",
       "      <td>0.017741</td>\n",
       "      <td>0.686528</td>\n",
       "      <td>0.038425</td>\n",
       "      <td>0.702041</td>\n",
       "      <td>0.909326</td>\n",
       "      <td>0.314650</td>\n",
       "    </tr>\n",
       "    <tr>\n",
       "      <th>91</th>\n",
       "      <td>0.253443</td>\n",
       "      <td>0.144406</td>\n",
       "      <td>0.797025</td>\n",
       "      <td>0.866835</td>\n",
       "      <td>0.196778</td>\n",
       "      <td>0.915534</td>\n",
       "      <td>0.227534</td>\n",
       "      <td>0.997582</td>\n",
       "    </tr>\n",
       "    <tr>\n",
       "      <th>92</th>\n",
       "      <td>0.448214</td>\n",
       "      <td>0.982897</td>\n",
       "      <td>0.229292</td>\n",
       "      <td>0.020562</td>\n",
       "      <td>0.236674</td>\n",
       "      <td>0.920214</td>\n",
       "      <td>0.671678</td>\n",
       "      <td>0.159832</td>\n",
       "    </tr>\n",
       "    <tr>\n",
       "      <th>93</th>\n",
       "      <td>0.058396</td>\n",
       "      <td>0.672483</td>\n",
       "      <td>0.191037</td>\n",
       "      <td>0.602885</td>\n",
       "      <td>0.087692</td>\n",
       "      <td>0.708920</td>\n",
       "      <td>0.656125</td>\n",
       "      <td>0.545103</td>\n",
       "    </tr>\n",
       "    <tr>\n",
       "      <th>94</th>\n",
       "      <td>0.012306</td>\n",
       "      <td>0.396266</td>\n",
       "      <td>0.981174</td>\n",
       "      <td>0.236980</td>\n",
       "      <td>0.613428</td>\n",
       "      <td>0.391463</td>\n",
       "      <td>0.127033</td>\n",
       "      <td>0.926296</td>\n",
       "    </tr>\n",
       "  </tbody>\n",
       "</table>\n",
       "</div>"
      ],
      "text/plain": [
       "      ACCOAC       MDH      PTAr        CS   ACACT1r       PPC      PPCK  \\\n",
       "90  0.834820  0.310928  0.017741  0.686528  0.038425  0.702041  0.909326   \n",
       "91  0.253443  0.144406  0.797025  0.866835  0.196778  0.915534  0.227534   \n",
       "92  0.448214  0.982897  0.229292  0.020562  0.236674  0.920214  0.671678   \n",
       "93  0.058396  0.672483  0.191037  0.602885  0.087692  0.708920  0.656125   \n",
       "94  0.012306  0.396266  0.981174  0.236980  0.613428  0.391463  0.127033   \n",
       "\n",
       "         PFL  \n",
       "90  0.314650  \n",
       "91  0.997582  \n",
       "92  0.159832  \n",
       "93  0.545103  \n",
       "94  0.926296  "
      ]
     },
     "execution_count": 9,
     "metadata": {},
     "output_type": "execute_result"
    }
   ],
   "source": [
    "art = RecommendationEngine(**art_params)\n",
    "df = art.recommendations.copy()\n",
    "df.tail()"
   ]
  },
  {
   "cell_type": "markdown",
   "metadata": {},
   "source": [
    "And transform the initial designs to categories (0, 1 or 2) by using the floor function:"
   ]
  },
  {
   "cell_type": "code",
   "execution_count": 10,
   "metadata": {},
   "outputs": [
    {
     "data": {
      "text/html": [
       "<div>\n",
       "<style scoped>\n",
       "    .dataframe tbody tr th:only-of-type {\n",
       "        vertical-align: middle;\n",
       "    }\n",
       "\n",
       "    .dataframe tbody tr th {\n",
       "        vertical-align: top;\n",
       "    }\n",
       "\n",
       "    .dataframe thead th {\n",
       "        text-align: right;\n",
       "    }\n",
       "</style>\n",
       "<table border=\"1\" class=\"dataframe\">\n",
       "  <thead>\n",
       "    <tr style=\"text-align: right;\">\n",
       "      <th></th>\n",
       "      <th>ACCOAC</th>\n",
       "      <th>MDH</th>\n",
       "      <th>PTAr</th>\n",
       "      <th>CS</th>\n",
       "      <th>ACACT1r</th>\n",
       "      <th>PPC</th>\n",
       "      <th>PPCK</th>\n",
       "      <th>PFL</th>\n",
       "    </tr>\n",
       "  </thead>\n",
       "  <tbody>\n",
       "    <tr>\n",
       "      <th>90</th>\n",
       "      <td>2.0</td>\n",
       "      <td>0.0</td>\n",
       "      <td>0.0</td>\n",
       "      <td>2.0</td>\n",
       "      <td>0.0</td>\n",
       "      <td>2.0</td>\n",
       "      <td>2.0</td>\n",
       "      <td>0.0</td>\n",
       "    </tr>\n",
       "    <tr>\n",
       "      <th>91</th>\n",
       "      <td>0.0</td>\n",
       "      <td>0.0</td>\n",
       "      <td>2.0</td>\n",
       "      <td>2.0</td>\n",
       "      <td>0.0</td>\n",
       "      <td>2.0</td>\n",
       "      <td>0.0</td>\n",
       "      <td>2.0</td>\n",
       "    </tr>\n",
       "    <tr>\n",
       "      <th>92</th>\n",
       "      <td>1.0</td>\n",
       "      <td>2.0</td>\n",
       "      <td>0.0</td>\n",
       "      <td>0.0</td>\n",
       "      <td>0.0</td>\n",
       "      <td>2.0</td>\n",
       "      <td>2.0</td>\n",
       "      <td>0.0</td>\n",
       "    </tr>\n",
       "    <tr>\n",
       "      <th>93</th>\n",
       "      <td>0.0</td>\n",
       "      <td>2.0</td>\n",
       "      <td>0.0</td>\n",
       "      <td>1.0</td>\n",
       "      <td>0.0</td>\n",
       "      <td>2.0</td>\n",
       "      <td>1.0</td>\n",
       "      <td>1.0</td>\n",
       "    </tr>\n",
       "    <tr>\n",
       "      <th>94</th>\n",
       "      <td>0.0</td>\n",
       "      <td>1.0</td>\n",
       "      <td>2.0</td>\n",
       "      <td>0.0</td>\n",
       "      <td>1.0</td>\n",
       "      <td>1.0</td>\n",
       "      <td>0.0</td>\n",
       "      <td>2.0</td>\n",
       "    </tr>\n",
       "  </tbody>\n",
       "</table>\n",
       "</div>"
      ],
      "text/plain": [
       "    ACCOAC  MDH  PTAr   CS  ACACT1r  PPC  PPCK  PFL\n",
       "90     2.0  0.0   0.0  2.0      0.0  2.0   2.0  0.0\n",
       "91     0.0  0.0   2.0  2.0      0.0  2.0   0.0  2.0\n",
       "92     1.0  2.0   0.0  0.0      0.0  2.0   2.0  0.0\n",
       "93     0.0  2.0   0.0  1.0      0.0  2.0   1.0  1.0\n",
       "94     0.0  1.0   2.0  0.0      1.0  1.0   0.0  2.0"
      ]
     },
     "execution_count": 10,
     "metadata": {},
     "output_type": "execute_result"
    }
   ],
   "source": [
    "df = np.floor(3 * df)\n",
    "df.tail()"
   ]
  },
  {
   "cell_type": "markdown",
   "metadata": {},
   "source": [
    "### Adding the wild type strain"
   ]
  },
  {
   "cell_type": "markdown",
   "metadata": {},
   "source": [
    "We include as last design the wild type strain, since we will use this list to find isoprenol production:"
   ]
  },
  {
   "cell_type": "code",
   "execution_count": 11,
   "metadata": {},
   "outputs": [
    {
     "data": {
      "text/html": [
       "<div>\n",
       "<style scoped>\n",
       "    .dataframe tbody tr th:only-of-type {\n",
       "        vertical-align: middle;\n",
       "    }\n",
       "\n",
       "    .dataframe tbody tr th {\n",
       "        vertical-align: top;\n",
       "    }\n",
       "\n",
       "    .dataframe thead th {\n",
       "        text-align: right;\n",
       "    }\n",
       "</style>\n",
       "<table border=\"1\" class=\"dataframe\">\n",
       "  <thead>\n",
       "    <tr style=\"text-align: right;\">\n",
       "      <th></th>\n",
       "      <th>ACCOAC</th>\n",
       "      <th>MDH</th>\n",
       "      <th>PTAr</th>\n",
       "      <th>CS</th>\n",
       "      <th>ACACT1r</th>\n",
       "      <th>PPC</th>\n",
       "      <th>PPCK</th>\n",
       "      <th>PFL</th>\n",
       "    </tr>\n",
       "  </thead>\n",
       "  <tbody>\n",
       "    <tr>\n",
       "      <th>91</th>\n",
       "      <td>0</td>\n",
       "      <td>0</td>\n",
       "      <td>2</td>\n",
       "      <td>2</td>\n",
       "      <td>0</td>\n",
       "      <td>2</td>\n",
       "      <td>0</td>\n",
       "      <td>2</td>\n",
       "    </tr>\n",
       "    <tr>\n",
       "      <th>92</th>\n",
       "      <td>1</td>\n",
       "      <td>2</td>\n",
       "      <td>0</td>\n",
       "      <td>0</td>\n",
       "      <td>0</td>\n",
       "      <td>2</td>\n",
       "      <td>2</td>\n",
       "      <td>0</td>\n",
       "    </tr>\n",
       "    <tr>\n",
       "      <th>93</th>\n",
       "      <td>0</td>\n",
       "      <td>2</td>\n",
       "      <td>0</td>\n",
       "      <td>1</td>\n",
       "      <td>0</td>\n",
       "      <td>2</td>\n",
       "      <td>1</td>\n",
       "      <td>1</td>\n",
       "    </tr>\n",
       "    <tr>\n",
       "      <th>94</th>\n",
       "      <td>0</td>\n",
       "      <td>1</td>\n",
       "      <td>2</td>\n",
       "      <td>0</td>\n",
       "      <td>1</td>\n",
       "      <td>1</td>\n",
       "      <td>0</td>\n",
       "      <td>2</td>\n",
       "    </tr>\n",
       "    <tr>\n",
       "      <th>95</th>\n",
       "      <td>1</td>\n",
       "      <td>1</td>\n",
       "      <td>1</td>\n",
       "      <td>1</td>\n",
       "      <td>1</td>\n",
       "      <td>1</td>\n",
       "      <td>1</td>\n",
       "      <td>1</td>\n",
       "    </tr>\n",
       "  </tbody>\n",
       "</table>\n",
       "</div>"
      ],
      "text/plain": [
       "    ACCOAC  MDH  PTAr  CS  ACACT1r  PPC  PPCK  PFL\n",
       "91       0    0     2   2        0    2     0    2\n",
       "92       1    2     0   0        0    2     2    0\n",
       "93       0    2     0   1        0    2     1    1\n",
       "94       0    1     2   0        1    1     0    2\n",
       "95       1    1     1   1        1    1     1    1"
      ]
     },
     "execution_count": 11,
     "metadata": {},
     "output_type": "execute_result"
    }
   ],
   "source": [
    "df.loc[user_params['n_instances']-1] = [user_params['modif_dict']['NoMod'] for i in range(n_reactions)] \n",
    "df = df.astype(int)\n",
    "df.tail()"
   ]
  },
  {
   "cell_type": "code",
   "execution_count": null,
   "metadata": {},
   "outputs": [],
   "source": []
  }
 ],
 "metadata": {
  "kernelspec": {
   "display_name": "ART_v3.6",
   "language": "python",
   "name": "art_v3.6"
  },
  "language_info": {
   "codemirror_mode": {
    "name": "ipython",
    "version": 3
   },
   "file_extension": ".py",
   "mimetype": "text/x-python",
   "name": "python",
   "nbconvert_exporter": "python",
   "pygments_lexer": "ipython3",
   "version": "3.6.5"
  }
 },
 "nbformat": 4,
 "nbformat_minor": 4
}
